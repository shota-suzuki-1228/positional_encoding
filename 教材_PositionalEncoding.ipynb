{
  "nbformat": 4,
  "nbformat_minor": 0,
  "metadata": {
    "colab": {
      "provenance": []
    },
    "kernelspec": {
      "name": "python3",
      "display_name": "Python 3"
    },
    "language_info": {
      "name": "python"
    }
  },
  "cells": [
    {
      "cell_type": "code",
      "source": [
        "# ライブラリーのインポート\n",
        "import math\n",
        "import torch\n",
        "import torch.nn as nn"
      ],
      "metadata": {
        "id": "18ItMT1J-IjZ"
      },
      "execution_count": 1,
      "outputs": []
    },
    {
      "cell_type": "markdown",
      "source": [
        "Positional Encoding\n",
        "$$\n",
        "PE_{(pos,2i)} = sin(pos/10000^{2i/d_{model}})\n",
        "\\\\\n",
        "PE_{(pos,2i+1)} = cos(pos/10000^{2i/d_{model}})\n",
        "$$"
      ],
      "metadata": {
        "id": "CS04ppFb-EyD"
      }
    },
    {
      "cell_type": "code",
      "execution_count": 7,
      "metadata": {
        "id": "O67alkW_9uhG"
      },
      "outputs": [],
      "source": [
        "#@title PositionalEncoding\n",
        "class PositionalEncoding(nn.Module):\n",
        "    # 初期化\n",
        "    def __init__(self, d_model,context_size=512):\n",
        "        super(PositionalEncoding,self).__init__()\n",
        "\n",
        "        # ０行列の作成\n",
        "        pe = torch.zeros(context_size,d_model)\n",
        "\n",
        "        # 三角関数を使った計算ループ\n",
        "        for pos in range(context_size):\n",
        "          for i in range(0, d_model, 2):\n",
        "            pe[pos, i] = math.sin(pos/(10000**(i/d_model)))\n",
        "            pe[pos, i+1] = math.cos(pos/(10000**(i/d_model)))\n",
        "\n",
        "        # 学習パラメーターの更新対象から外してクラス変数に確保(重要)\n",
        "        self.register_buffer('pe', pe.unsqueeze(0))\n",
        "\n",
        "\n",
        "    # 順伝播\n",
        "    def forward(self,x):\n",
        "      return self.pe[:,:x.size(1)]"
      ]
    },
    {
      "cell_type": "code",
      "source": [
        "# ハイパーパラメータ\n",
        "batch_size = 1\n",
        "d_model = 4\n",
        "context_size = 5"
      ],
      "metadata": {
        "id": "ZFSYIFm-uTi8"
      },
      "execution_count": 5,
      "outputs": []
    },
    {
      "cell_type": "code",
      "source": [
        "# インスタンス化\n",
        "pe = PositionalEncoding(d_model, context_size)\n",
        "\n",
        "# 入力値のサンプリング\n",
        "torch.random.manual_seed(0)\n",
        "x = torch.randint(context_size,(batch_size,context_size))\n",
        "\n",
        "# Positional encodingの実行\n",
        "y = pe(x)\n",
        "\n",
        "# 桁数をそろえて出力\n",
        "print(x)\n",
        "print(y)"
      ],
      "metadata": {
        "id": "1RfN8d2MzpHE",
        "colab": {
          "base_uri": "https://localhost:8080/"
        },
        "outputId": "d2a692d9-47d2-4ca8-fc63-72950457342b"
      },
      "execution_count": 8,
      "outputs": [
        {
          "output_type": "stream",
          "name": "stdout",
          "text": [
            "tensor([[4, 4, 3, 0, 3]])\n",
            "tensor([[[ 0.0000,  1.0000,  0.0000,  1.0000],\n",
            "         [ 0.8415,  0.5403,  0.0100,  0.9999],\n",
            "         [ 0.9093, -0.4161,  0.0200,  0.9998],\n",
            "         [ 0.1411, -0.9900,  0.0300,  0.9996],\n",
            "         [-0.7568, -0.6536,  0.0400,  0.9992]]])\n"
          ]
        }
      ]
    },
    {
      "cell_type": "code",
      "source": [
        "# 埋め込みベクトルを\n",
        "torch.manual_seed(0)\n",
        "embedding = nn.Embedding(context_size, d_model)\n",
        "embedding(x)"
      ],
      "metadata": {
        "id": "xSV4aC-XydI-",
        "colab": {
          "base_uri": "https://localhost:8080/"
        },
        "outputId": "7393bcb4-e259-4e72-d0c3-9c2fa98b9f9d"
      },
      "execution_count": 9,
      "outputs": [
        {
          "output_type": "execute_result",
          "data": {
            "text/plain": [
              "tensor([[[ 0.9318,  1.2590,  2.0050,  0.0537],\n",
              "         [ 0.9318,  1.2590,  2.0050,  0.0537],\n",
              "         [ 1.3894,  1.5863,  0.9463, -0.8437],\n",
              "         [-1.1258, -1.1524, -0.2506, -0.4339],\n",
              "         [ 1.3894,  1.5863,  0.9463, -0.8437]]], grad_fn=<EmbeddingBackward0>)"
            ]
          },
          "metadata": {},
          "execution_count": 9
        }
      ]
    },
    {
      "cell_type": "code",
      "source": [
        "# 埋め込みベクトルへpositional encodingを追加して確認\n",
        "embedding(x) + pe(x)"
      ],
      "metadata": {
        "id": "JVCoO0be-uzH",
        "colab": {
          "base_uri": "https://localhost:8080/"
        },
        "outputId": "cd9a4446-fd48-4657-f65b-fdc6d59dffa8"
      },
      "execution_count": 10,
      "outputs": [
        {
          "output_type": "execute_result",
          "data": {
            "text/plain": [
              "tensor([[[ 0.9318,  2.2590,  2.0050,  1.0537],\n",
              "         [ 1.7733,  1.7993,  2.0150,  1.0537],\n",
              "         [ 2.2987,  1.1702,  0.9663,  0.1561],\n",
              "         [-0.9847, -2.1424, -0.2206,  0.5657],\n",
              "         [ 0.6326,  0.9327,  0.9863,  0.1555]]], grad_fn=<AddBackward0>)"
            ]
          },
          "metadata": {},
          "execution_count": 10
        }
      ]
    }
  ]
}